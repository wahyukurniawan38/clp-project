{
 "cells": [
  {
   "cell_type": "code",
   "execution_count": 4,
   "id": "d60456c8",
   "metadata": {},
   "outputs": [],
   "source": [
    "import pathlib\n",
    "\n",
    "import numpy as np\n",
    "import pandas as pd\n",
    "\n",
    "data_path = pathlib.Path()/\"instances\"/\"data_from_wahyu\"/\"dummy_data_small.xlsx\"\n",
    "df_cargos = pd.read_excel(data_path.absolute(),sheet_name='Item', header=0)\n",
    "df_containers = pd.read_excel(data_path.absolute(),sheet_name='Container', header=0)"
   ]
  }
 ],
 "metadata": {
  "kernelspec": {
   "display_name": "Python 3 (ipykernel)",
   "language": "python",
   "name": "python3"
  },
  "language_info": {
   "codemirror_mode": {
    "name": "ipython",
    "version": 3
   },
   "file_extension": ".py",
   "mimetype": "text/x-python",
   "name": "python",
   "nbconvert_exporter": "python",
   "pygments_lexer": "ipython3",
   "version": "3.8.18"
  }
 },
 "nbformat": 4,
 "nbformat_minor": 5
}
